{
 "cells": [
  {
   "cell_type": "code",
   "execution_count": 15,
   "id": "a6eb640d-b6b0-4d14-864c-2ed51fa0502d",
   "metadata": {
    "tags": []
   },
   "outputs": [],
   "source": [
    "from torch.nn import Sequential as Seq, Linear as Lin, ReLU\n",
    "from torch_geometric.utils import scatter\n",
    "from torch_geometric.nn import MetaLayer\n",
    "import torch\n",
    "from torch import Tensor"
   ]
  },
  {
   "cell_type": "code",
   "execution_count": 8,
   "id": "279e74b9-f492-48bd-9432-9242a1b85aa2",
   "metadata": {
    "tags": []
   },
   "outputs": [],
   "source": [
    "n_dim_features = 16"
   ]
  },
  {
   "cell_type": "code",
   "execution_count": 9,
   "id": "0d86499f-d5cf-4732-8124-b94bf27e1018",
   "metadata": {
    "tags": []
   },
   "outputs": [],
   "source": [
    "class EdgeModel(torch.nn.Module):\n",
    "    def __init__(self):\n",
    "        super().__init__()\n",
    "        self.edge_mlp = Seq(Lin(n_dim_features, 128), ReLU())\n",
    "\n",
    "    def forward(self, src, dest, edge_attr, u, batch):\n",
    "        # src, dest: [E, F_x], where E is the number of edges.\n",
    "        # edge_attr: [E, F_e]\n",
    "        # u: [B, F_u], where B is the number of graphs.\n",
    "        # batch: [E] with max entry B - 1.\n",
    "        out = torch.cat([src, dest, edge_attr, u[batch]], 1)\n",
    "        return self.edge_mlp(out)"
   ]
  },
  {
   "cell_type": "code",
   "execution_count": null,
   "id": "cb316533-c710-4ceb-a3d0-2111833b3b86",
   "metadata": {},
   "outputs": [],
   "source": [
    "class NodeModel(torch.nn.Module):\n",
    "    def __init__(self):\n",
    "        super().__init__()\n",
    "        self.node_mlp_1 = Seq(Lin(..., ...), ReLU(), Lin(..., ...))\n",
    "        self.node_mlp_2 = Seq(Lin(..., ...), ReLU(), Lin(..., ...))\n",
    "\n",
    "    def forward(self, x, edge_index, edge_attr, u, batch):\n",
    "        # x: [N, F_x], where N is the number of nodes.\n",
    "        # edge_index: [2, E] with max entry N - 1.\n",
    "        # edge_attr: [E, F_e]\n",
    "        # u: [B, F_u]\n",
    "        # batch: [N] with max entry B - 1.\n",
    "        row, col = edge_index\n",
    "        out = torch.cat([x[row], edge_attr], dim=1)\n",
    "        out = self.node_mlp_1(out)\n",
    "        out = scatter(out, col, dim=0, dim_size=x.size(0),\n",
    "                      reduce='mean')\n",
    "        out = torch.cat([x, out, u[batch]], dim=1)\n",
    "        return self.node_mlp_2(out)"
   ]
  },
  {
   "cell_type": "code",
   "execution_count": null,
   "id": "b0b57751-52e2-416c-b058-4ff7fdcd0a2e",
   "metadata": {},
   "outputs": [],
   "source": [
    "class GlobalModel(torch.nn.Module):\n",
    "    def __init__(self):\n",
    "        super().__init__()\n",
    "        self.global_mlp = Seq(Lin(..., ...), ReLU(), Lin(..., ...))\n",
    "\n",
    "    def forward(self, x, edge_index, edge_attr, u, batch):\n",
    "        # x: [N, F_x], where N is the number of nodes.\n",
    "        # edge_index: [2, E] with max entry N - 1.\n",
    "        # edge_attr: [E, F_e]\n",
    "        # u: [B, F_u]\n",
    "        # batch: [N] with max entry B - 1.\n",
    "        out = torch.cat([\n",
    "            u,\n",
    "            scatter(x, batch, dim=0, reduce='mean'),\n",
    "        ], dim=1)\n",
    "        return self.global_mlp(out)"
   ]
  },
  {
   "cell_type": "code",
   "execution_count": 2,
   "id": "b01fef7c-d567-4939-b214-35be6bef32aa",
   "metadata": {
    "tags": []
   },
   "outputs": [
    {
     "ename": "TypeError",
     "evalue": "empty() received an invalid combination of arguments - got (tuple, dtype=NoneType, device=NoneType), but expected one of:\n * (tuple of ints size, *, tuple of names names, torch.memory_format memory_format, torch.dtype dtype, torch.layout layout, torch.device device, bool pin_memory, bool requires_grad)\n * (tuple of SymInts size, *, torch.memory_format memory_format, Tensor out, torch.dtype dtype, torch.layout layout, torch.device device, bool pin_memory, bool requires_grad)\n",
     "output_type": "error",
     "traceback": [
      "\u001b[0;31m---------------------------------------------------------------------------\u001b[0m",
      "\u001b[0;31mTypeError\u001b[0m                                 Traceback (most recent call last)",
      "Cell \u001b[0;32mIn[2], line 56\u001b[0m\n\u001b[1;32m     50\u001b[0m         out \u001b[38;5;241m=\u001b[39m torch\u001b[38;5;241m.\u001b[39mcat([\n\u001b[1;32m     51\u001b[0m             u,\n\u001b[1;32m     52\u001b[0m             scatter(x, batch, dim\u001b[38;5;241m=\u001b[39m\u001b[38;5;241m0\u001b[39m, reduce\u001b[38;5;241m=\u001b[39m\u001b[38;5;124m'\u001b[39m\u001b[38;5;124mmean\u001b[39m\u001b[38;5;124m'\u001b[39m),\n\u001b[1;32m     53\u001b[0m         ], dim\u001b[38;5;241m=\u001b[39m\u001b[38;5;241m1\u001b[39m)\n\u001b[1;32m     54\u001b[0m         \u001b[38;5;28;01mreturn\u001b[39;00m \u001b[38;5;28mself\u001b[39m\u001b[38;5;241m.\u001b[39mglobal_mlp(out)\n\u001b[0;32m---> 56\u001b[0m op \u001b[38;5;241m=\u001b[39m MetaLayer(\u001b[43mEdgeModel\u001b[49m\u001b[43m(\u001b[49m\u001b[43m)\u001b[49m, NodeModel(), GlobalModel())\n\u001b[1;32m     57\u001b[0m x, edge_attr, u \u001b[38;5;241m=\u001b[39m op(x, edge_index, edge_attr, u, batch)\n",
      "Cell \u001b[0;32mIn[2], line 9\u001b[0m, in \u001b[0;36mEdgeModel.__init__\u001b[0;34m(self)\u001b[0m\n\u001b[1;32m      7\u001b[0m \u001b[38;5;28;01mdef\u001b[39;00m \u001b[38;5;21m__init__\u001b[39m(\u001b[38;5;28mself\u001b[39m):\n\u001b[1;32m      8\u001b[0m     \u001b[38;5;28msuper\u001b[39m()\u001b[38;5;241m.\u001b[39m\u001b[38;5;21m__init__\u001b[39m()\n\u001b[0;32m----> 9\u001b[0m     \u001b[38;5;28mself\u001b[39m\u001b[38;5;241m.\u001b[39medge_mlp \u001b[38;5;241m=\u001b[39m Seq(\u001b[43mLin\u001b[49m\u001b[43m(\u001b[49m\u001b[38;5;241;43m.\u001b[39;49m\u001b[38;5;241;43m.\u001b[39;49m\u001b[38;5;241;43m.\u001b[39;49m\u001b[43m,\u001b[49m\u001b[43m \u001b[49m\u001b[38;5;241;43m.\u001b[39;49m\u001b[38;5;241;43m.\u001b[39;49m\u001b[38;5;241;43m.\u001b[39;49m\u001b[43m)\u001b[49m, ReLU(), Lin(\u001b[38;5;241m.\u001b[39m\u001b[38;5;241m.\u001b[39m\u001b[38;5;241m.\u001b[39m, \u001b[38;5;241m.\u001b[39m\u001b[38;5;241m.\u001b[39m\u001b[38;5;241m.\u001b[39m))\n",
      "File \u001b[0;32m/opt/homebrew/Caskroom/miniforge/base/envs/pytorch/lib/python3.11/site-packages/torch/nn/modules/linear.py:96\u001b[0m, in \u001b[0;36mLinear.__init__\u001b[0;34m(self, in_features, out_features, bias, device, dtype)\u001b[0m\n\u001b[1;32m     94\u001b[0m \u001b[38;5;28mself\u001b[39m\u001b[38;5;241m.\u001b[39min_features \u001b[38;5;241m=\u001b[39m in_features\n\u001b[1;32m     95\u001b[0m \u001b[38;5;28mself\u001b[39m\u001b[38;5;241m.\u001b[39mout_features \u001b[38;5;241m=\u001b[39m out_features\n\u001b[0;32m---> 96\u001b[0m \u001b[38;5;28mself\u001b[39m\u001b[38;5;241m.\u001b[39mweight \u001b[38;5;241m=\u001b[39m Parameter(\u001b[43mtorch\u001b[49m\u001b[38;5;241;43m.\u001b[39;49m\u001b[43mempty\u001b[49m\u001b[43m(\u001b[49m\u001b[43m(\u001b[49m\u001b[43mout_features\u001b[49m\u001b[43m,\u001b[49m\u001b[43m \u001b[49m\u001b[43min_features\u001b[49m\u001b[43m)\u001b[49m\u001b[43m,\u001b[49m\u001b[43m \u001b[49m\u001b[38;5;241;43m*\u001b[39;49m\u001b[38;5;241;43m*\u001b[39;49m\u001b[43mfactory_kwargs\u001b[49m\u001b[43m)\u001b[49m)\n\u001b[1;32m     97\u001b[0m \u001b[38;5;28;01mif\u001b[39;00m bias:\n\u001b[1;32m     98\u001b[0m     \u001b[38;5;28mself\u001b[39m\u001b[38;5;241m.\u001b[39mbias \u001b[38;5;241m=\u001b[39m Parameter(torch\u001b[38;5;241m.\u001b[39mempty(out_features, \u001b[38;5;241m*\u001b[39m\u001b[38;5;241m*\u001b[39mfactory_kwargs))\n",
      "\u001b[0;31mTypeError\u001b[0m: empty() received an invalid combination of arguments - got (tuple, dtype=NoneType, device=NoneType), but expected one of:\n * (tuple of ints size, *, tuple of names names, torch.memory_format memory_format, torch.dtype dtype, torch.layout layout, torch.device device, bool pin_memory, bool requires_grad)\n * (tuple of SymInts size, *, torch.memory_format memory_format, Tensor out, torch.dtype dtype, torch.layout layout, torch.device device, bool pin_memory, bool requires_grad)\n"
     ]
    }
   ],
   "source": []
  },
  {
   "cell_type": "code",
   "execution_count": 16,
   "id": "000d6005-5f4a-45c5-9474-2c72a4cf667e",
   "metadata": {},
   "outputs": [],
   "source": [
    "class MetaLayer(torch.nn.Module):\n",
    "    def __init__(\n",
    "        self,\n",
    "        edge_model,\n",
    "        node_model,\n",
    "        global_model,\n",
    "    ):\n",
    "        super().__init__()\n",
    "        self.edge_model = edge_model\n",
    "        self.node_model = node_model\n",
    "        self.global_model = global_model\n",
    "\n",
    "        self.reset_parameters()\n",
    "\n",
    "    def reset_parameters(self):\n",
    "        r\"\"\"Resets all learnable parameters of the module.\"\"\"\n",
    "        for item in [self.node_model, self.edge_model, self.global_model]:\n",
    "            if hasattr(item, 'reset_parameters'):\n",
    "                item.reset_parameters()\n",
    "\n",
    "    def forward(\n",
    "        self,\n",
    "        x: Tensor,\n",
    "        edge_index: Tensor,\n",
    "        edge_attr: Optional[Tensor] = None,\n",
    "        u: Optional[Tensor] = None,\n",
    "        batch: Optional[Tensor] = None,\n",
    "    ) -> Tuple[Tensor, Optional[Tensor], Optional[Tensor]]:\n",
    "        r\"\"\"\n",
    "        Args:\n",
    "            x (torch.Tensor): The node features.\n",
    "            edge_index (torch.Tensor): The edge indices.\n",
    "            edge_attr (torch.Tensor, optional): The edge features.\n",
    "                (default: :obj:`None`)\n",
    "            u (torch.Tensor, optional): The global graph features.\n",
    "                (default: :obj:`None`)\n",
    "            batch (torch.Tensor, optional): The batch vector\n",
    "                :math:`\\mathbf{b} \\in {\\{ 0, \\ldots, B-1\\}}^N`, which assigns\n",
    "                each node to a specific graph. (default: :obj:`None`)\n",
    "        \"\"\"\n",
    "        row = edge_index[0]\n",
    "        col = edge_index[1]\n",
    "\n",
    "        edge_attr = self.edge_model(x[row], x[col], edge_attr, u, batch)  # Update edges\n",
    "        x = self.node_model(x, edge_index, edge_attr, u, batch)  # Update nodes\n",
    "        u = self.global_model(x, edge_index, edge_attr, u, batch)  # Update global\n",
    "\n",
    "        return x, edge_attr, u\n"
   ]
  },
  {
   "cell_type": "code",
   "execution_count": null,
   "id": "abf6cf9b-da08-4648-b34b-6ca50a50676f",
   "metadata": {},
   "outputs": [],
   "source": []
  }
 ],
 "metadata": {
  "kernelspec": {
   "display_name": "Python 3 (ipykernel)",
   "language": "python",
   "name": "python3"
  },
  "language_info": {
   "codemirror_mode": {
    "name": "ipython",
    "version": 3
   },
   "file_extension": ".py",
   "mimetype": "text/x-python",
   "name": "python",
   "nbconvert_exporter": "python",
   "pygments_lexer": "ipython3",
   "version": "3.11.0"
  }
 },
 "nbformat": 4,
 "nbformat_minor": 5
}
