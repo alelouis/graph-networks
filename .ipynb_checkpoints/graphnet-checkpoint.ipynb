{
 "cells": [
  {
   "cell_type": "code",
   "execution_count": null,
   "id": "5ed71437-65d7-4536-98c6-c8710ee4b7e4",
   "metadata": {
    "tags": []
   },
   "outputs": [],
   "source": [
    "import torch\n",
    "from torch import nn\n",
    "from torch.utils.data import DataLoader\n",
    "from torch_geometric.datasets import KarateClub"
   ]
  },
  {
   "cell_type": "code",
   "execution_count": 2,
   "id": "7f2d155d-b08d-43fc-81a5-b2618c0f7ee2",
   "metadata": {
    "tags": []
   },
   "outputs": [],
   "source": [
    "# Get cpu or gpu device for training.\n",
    "device = \"cuda\" if torch.cuda.is_available() else \"mps\" if torch.backends.mps.is_available() else \"cpu\""
   ]
  },
  {
   "cell_type": "code",
   "execution_count": 25,
   "id": "5a026688-7880-4574-93f7-84e7a7598237",
   "metadata": {
    "tags": []
   },
   "outputs": [],
   "source": [
    "device = \"cpu\""
   ]
  },
  {
   "cell_type": "code",
   "execution_count": 26,
   "id": "9a129d88-7ec2-43bc-8188-34970e5d653f",
   "metadata": {
    "tags": []
   },
   "outputs": [],
   "source": [
    "class edge_model(nn.Module):\n",
    "    def __init__(self, in_dim, e_dim):\n",
    "        super().__init__()\n",
    "        self.mlp = nn.Sequential(\n",
    "            nn.Linear(in_dim, 128),\n",
    "            nn.ReLU(),\n",
    "            nn.Linear(128, e_dim))\n",
    "    def forward(self, e_k, v_rk, v_sk, u):\n",
    "        return self.mlp(torch.cat([e_k, v_rk, v_sk, u]))"
   ]
  },
  {
   "cell_type": "code",
   "execution_count": 27,
   "id": "012022c0-805b-4f91-abc9-e02dc1fe6912",
   "metadata": {
    "tags": []
   },
   "outputs": [],
   "source": [
    "class node_model(nn.Module):\n",
    "    def __init__(self, in_dim, v_dim):\n",
    "        super().__init__()\n",
    "        self.mlp = nn.Sequential(\n",
    "            nn.Linear(in_dim, 128),\n",
    "            nn.ReLU(),\n",
    "            nn.Linear(128, v_dim))\n",
    "    def forward(self, e_i_agg, v_i, u):\n",
    "        return self.mlp(torch.cat([e_i_agg, v_i.unsqueeze(0), u.unsqueeze(0)], dim = 1))"
   ]
  },
  {
   "cell_type": "code",
   "execution_count": 28,
   "id": "1e34546e-b97b-4dc8-a2c9-b0ef29fe136b",
   "metadata": {
    "tags": []
   },
   "outputs": [],
   "source": [
    "class global_model(nn.Module):\n",
    "    def __init__(self, in_dim):\n",
    "        super().__init__()\n",
    "        self.mlp = nn.Sequential(\n",
    "            nn.Linear(in_dim, 128),\n",
    "            nn.ReLU(),\n",
    "            nn.Linear(128, 1))\n",
    "    def forward(self, e_agg, v_agg, u):\n",
    "        return self.mlp(torch.cat([e_agg, v_agg, u.unsqueeze(0)], dim = 1))"
   ]
  },
  {
   "cell_type": "code",
   "execution_count": 29,
   "id": "b96def96-ccef-423c-b792-1162202786ad",
   "metadata": {
    "tags": []
   },
   "outputs": [],
   "source": [
    "class edge_to_node_agg(nn.Module):\n",
    "    def __init__(self):\n",
    "        super().__init__()\n",
    "    def forward(self, E_i):\n",
    "        # E_i [E_i, F_e]\n",
    "        e_agg_i = torch.sum(E_i, dim=0)\n",
    "        return e_agg_i.unsqueeze(0)"
   ]
  },
  {
   "cell_type": "code",
   "execution_count": 30,
   "id": "c10a9b32-2187-49fa-80aa-45605890d031",
   "metadata": {
    "tags": []
   },
   "outputs": [],
   "source": [
    "class edge_to_global_agg(nn.Module):\n",
    "    def __init__(self):\n",
    "        super().__init__()\n",
    "    def forward(self, E):\n",
    "        # E [E, F_e]\n",
    "        e_agg = torch.sum(E, dim=0)\n",
    "        return e_agg.unsqueeze(0)  "
   ]
  },
  {
   "cell_type": "code",
   "execution_count": 31,
   "id": "702930d0-10b4-4b2b-96ca-49cd4e33b943",
   "metadata": {
    "tags": []
   },
   "outputs": [],
   "source": [
    "class node_to_global_agg(nn.Module):\n",
    "    def __init__(self):\n",
    "        super().__init__()\n",
    "    def forward(self, V):\n",
    "        # V [V, F_v]\n",
    "        v_agg = torch.sum(V, dim=0)\n",
    "        return v_agg.unsqueeze(0)"
   ]
  },
  {
   "cell_type": "code",
   "execution_count": 47,
   "id": "c7e34a2c-1de6-4ced-85b2-e6508bab6599",
   "metadata": {
    "tags": []
   },
   "outputs": [],
   "source": [
    "class GraphNet(nn.Module):\n",
    "    def __init__(self, Ne, Nn, n_dim, e_dim):\n",
    "        super().__init__()\n",
    "        self.n_dim = n_dim\n",
    "        self.e_dim = e_dim\n",
    "        self.Nn = Nn\n",
    "        self.Ne = Ne\n",
    "        \n",
    "        self.edge_model = edge_model(e_dim + 2*n_dim + 1, self.e_dim)              # phi_e\n",
    "        self.node_model = node_model(n_dim + 2, self.n_dim)                        # phi_v\n",
    "        self.global_model = global_model(n_dim+e_dim+1)                            # phi_u\n",
    "        self.edge_to_node_agg = edge_to_node_agg()                                 # rho_e_v\n",
    "        self.edge_to_global_agg = edge_to_global_agg()                             # rho_e_u\n",
    "        self.node_to_global_agg = node_to_global_agg()                             # rho_v_u\n",
    "\n",
    "        \n",
    "    def forward(self, E, V, u, r, s):\n",
    "        E_prime = torch.empty((self.Ne, self.e_dim))\n",
    "        for k in range(self.Ne):\n",
    "            e_k, v_rk, v_sk = E[k], V[r[k]], V[s[k]]\n",
    "            e_prime_k = self.edge_model(e_k, v_rk, v_sk, u)                        # 1. Compute updated edge attributes\n",
    "            E_prime[k] = e_prime_k\n",
    "            \n",
    "        V_prime = torch.empty((self.Nn, self.n_dim))\n",
    "        for i in range(self.Nn):\n",
    "            if any(r == i):\n",
    "                E_prime_i = torch.stack([E_prime[k] for k in range(Ne) if r[k]==i], dim = 0)\n",
    "                e_prime_bar_i = self.edge_to_node_agg(E_prime_i)                   # 2. Aggregate edge attributes per node\n",
    "                v_prime_i = self.node_model(e_prime_bar_i, V[i], u)                # 3. Compute updated node attributes\n",
    "                V_prime[i] = v_prime_i\n",
    "            \n",
    "        e_prime_bar = self.edge_to_global_agg(E_prime)                             # 4. Aggregate edge attributes globally\n",
    "        \n",
    "        v_prime_bar = self.node_to_global_agg(V_prime)                             # 5. Aggregate node attributes globally\n",
    "        u_prime = self.global_model(e_prime_bar, v_prime_bar, u)                   # 6. Compute updated global attribute\n",
    "        \n",
    "        \n",
    "        return E_prime, V_prime, u_prime"
   ]
  },
  {
   "cell_type": "code",
   "execution_count": 48,
   "id": "95ffbdac-971d-4700-a0e1-980b08bcf652",
   "metadata": {
    "tags": []
   },
   "outputs": [],
   "source": [
    "class Decoder(nn.Module):\n",
    "    def __init__(self, in_dim, out_dim, Nn):\n",
    "        super().__init__()\n",
    "        self.out_dim = out_dim\n",
    "        self.in_dim = in_dim\n",
    "        self.Nn = Nn\n",
    "        self.mlp = nn.Sequential(\n",
    "            nn.Linear(self.in_dim, 128),\n",
    "            nn.ReLU(),\n",
    "            nn.Linear(128, 4))\n",
    "    \n",
    "    def forward(self, V):\n",
    "        out = torch.empty((self.Nn, self.out_dim))\n",
    "        for i in range(self.Nn):\n",
    "            v = self.mlp(V[i])\n",
    "            out[i] = v\n",
    "        return out"
   ]
  },
  {
   "cell_type": "code",
   "execution_count": 49,
   "id": "1134381a-d958-4ad6-905e-ddbb2861d5b4",
   "metadata": {
    "tags": []
   },
   "outputs": [],
   "source": [
    "class Classifier(nn.Module):\n",
    "    def __init__(self, Ne, Nn, n_dim, e_dim):\n",
    "        super().__init__()\n",
    "        self.gn = GraphNet(Ne, Nn, n_dim, e_dim)\n",
    "        self.dec = Decoder(n_dim, 4, Nn)\n",
    "        \n",
    "    def forward(self, E, V, u, r, s):\n",
    "        E_prime, V_prime, u_prime = self.gn(E, V, u, r, s)\n",
    "        z = self.dec(V_prime)\n",
    "        return z"
   ]
  },
  {
   "cell_type": "code",
   "execution_count": 50,
   "id": "b415d829-f29a-4463-ab90-09d44710434e",
   "metadata": {
    "tags": []
   },
   "outputs": [],
   "source": [
    "dataset = KarateClub()\n",
    "s, r = dataset[0].edge_index\n",
    "V = dataset[0].x\n",
    "E = torch.ones((s.shape[0], 1))\n",
    "Nn, n_dim = V.shape\n",
    "Ne, e_dim = E.shape\n",
    "u = torch.tensor([1.])"
   ]
  },
  {
   "cell_type": "code",
   "execution_count": 52,
   "id": "adadada6-21b4-48c3-aef8-38dc80e172ff",
   "metadata": {
    "tags": []
   },
   "outputs": [
    {
     "name": "stdout",
     "output_type": "stream",
     "text": [
      "Epoch   0 | Loss: 1.41 | Acc: 11.76%\n",
      "Epoch  10 | Loss: 0.34 | Acc: 88.24%\n",
      "Epoch  20 | Loss: 0.00 | Acc: 100.00%\n",
      "Epoch  30 | Loss: 0.00 | Acc: 100.00%\n",
      "Epoch  40 | Loss: 0.00 | Acc: 100.00%\n",
      "Epoch  50 | Loss: 0.00 | Acc: 100.00%\n"
     ]
    }
   ],
   "source": [
    "model = Classifier(Ne, Nn, n_dim, e_dim)\n",
    "criterion = torch.nn.CrossEntropyLoss()\n",
    "optimizer = torch.optim.Adam(model.parameters(), lr=0.02)\n",
    "\n",
    "def accuracy(pred_y, y):\n",
    "    return (pred_y == y).sum() / len(y)\n",
    "\n",
    "for epoch in range(51):\n",
    "    optimizer.zero_grad()\n",
    "    z = model(E, V, u, r, s)\n",
    "    loss = criterion(z, dataset[0].y)\n",
    "    acc = accuracy(z.argmax(dim=1), dataset[0].y)\n",
    "    loss.backward()\n",
    "    optimizer.step()\n",
    "    if epoch % 10 == 0:\n",
    "        print(f'Epoch {epoch:>3} | Loss: {loss:.2f} | Acc: {acc*100:.2f}%')"
   ]
  }
 ],
 "metadata": {
  "kernelspec": {
   "display_name": "Python 3 (ipykernel)",
   "language": "python",
   "name": "python3"
  },
  "language_info": {
   "codemirror_mode": {
    "name": "ipython",
    "version": 3
   },
   "file_extension": ".py",
   "mimetype": "text/x-python",
   "name": "python",
   "nbconvert_exporter": "python",
   "pygments_lexer": "ipython3",
   "version": "3.11.0"
  }
 },
 "nbformat": 4,
 "nbformat_minor": 5
}
